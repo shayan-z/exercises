{
 "cells": [
  {
   "cell_type": "code",
   "execution_count": 62,
   "metadata": {},
   "outputs": [],
   "source": [
    "energy = 509"
   ]
  },
  {
   "cell_type": "code",
   "execution_count": 63,
   "metadata": {},
   "outputs": [],
   "source": [
    "protein = 1.8\n"
   ]
  },
  {
   "cell_type": "code",
   "execution_count": 64,
   "metadata": {},
   "outputs": [],
   "source": [
    "fat = 8"
   ]
  },
  {
   "cell_type": "code",
   "execution_count": 65,
   "metadata": {},
   "outputs": [],
   "source": [
    "carbohydrates = 10.6"
   ]
  },
  {
   "cell_type": "code",
   "execution_count": null,
   "metadata": {},
   "outputs": [],
   "source": [
    "numberofcookie = input(\"how many cookies did you have? \")"
   ]
  },
  {
   "cell_type": "code",
   "execution_count": 67,
   "metadata": {},
   "outputs": [
    {
     "data": {
      "text/plain": [
       "'1'"
      ]
     },
     "execution_count": 67,
     "metadata": {},
     "output_type": "execute_result"
    }
   ],
   "source": [
    "numberofcookie"
   ]
  },
  {
   "cell_type": "code",
   "execution_count": 68,
   "metadata": {},
   "outputs": [
    {
     "name": "stdout",
     "output_type": "stream",
     "text": [
      "509\n"
     ]
    }
   ],
   "source": [
    "print(energy * int(numberofcookie))"
   ]
  },
  {
   "cell_type": "code",
   "execution_count": 69,
   "metadata": {},
   "outputs": [],
   "source": [
    "totalofenergy = energy * int(numberofcookie)\n",
    "totalofprotein = protein * int(numberofcookie)\n",
    "totaloffat = fat * int(numberofcookie)\n",
    "totalofcarbohydrates = carbohydrates * int(numberofcookie)"
   ]
  },
  {
   "cell_type": "code",
   "execution_count": 70,
   "metadata": {},
   "outputs": [
    {
     "data": {
      "text/plain": [
       "509"
      ]
     },
     "execution_count": 70,
     "metadata": {},
     "output_type": "execute_result"
    }
   ],
   "source": [
    "totalofenergy"
   ]
  },
  {
   "cell_type": "code",
   "execution_count": 71,
   "metadata": {},
   "outputs": [
    {
     "name": "stdout",
     "output_type": "stream",
     "text": [
      "The cookies made you fat! Be carefull you had 509 energy\n"
     ]
    }
   ],
   "source": [
    "print(\"The cookies made you fat! Be carefull you had \" + str(int(totalofenergy)) + \" energy\")"
   ]
  },
  {
   "cell_type": "code",
   "execution_count": 72,
   "metadata": {},
   "outputs": [
    {
     "name": "stdout",
     "output_type": "stream",
     "text": [
      "The cookies made you fat! Be carefull you had 509 energy, 1 protein\n"
     ]
    }
   ],
   "source": [
    "print(\"The cookies made you fat! Be carefull you had \" + str(int(totalofenergy)) + \" energy, \" + str(int(totalofprotein)) + \" protein\")"
   ]
  },
  {
   "cell_type": "code",
   "execution_count": 73,
   "metadata": {},
   "outputs": [
    {
     "data": {
      "text/plain": [
       "1.8"
      ]
     },
     "execution_count": 73,
     "metadata": {},
     "output_type": "execute_result"
    }
   ],
   "source": [
    "totalofprotein"
   ]
  },
  {
   "cell_type": "code",
   "execution_count": 74,
   "metadata": {},
   "outputs": [
    {
     "name": "stdout",
     "output_type": "stream",
     "text": [
      "The cookies made you fat! Be carefull you had 509 energy, 1 protein\n"
     ]
    }
   ],
   "source": [
    "print(\"The cookies made you fat! Be carefull you had \" + str(int(totalofenergy)) + \" energy, \" + str(int(totalofprotein)) + \" protein\")"
   ]
  },
  {
   "cell_type": "code",
   "execution_count": 75,
   "metadata": {},
   "outputs": [
    {
     "name": "stdout",
     "output_type": "stream",
     "text": [
      "The cookies made you fat! Be carefull you had: \n",
      "509 energy,1 protein,8 fat,10 carbohydrates. \n",
      "You need to stop eating that much cookies \n"
     ]
    }
   ],
   "source": [
    "print(\"The cookies made you fat! Be carefull you had: \\n\"\n",
    "      + str(int(totalofenergy)) + \" energy,\"\n",
    "      + str(int(totalofprotein)) + \" protein,\"\n",
    "      + str(int(totaloffat)) + \" fat,\"\n",
    "      + str(int(carbohydrates)) + \" carbohydrates. \\nYou need to stop eating that much cookies \"\n",
    "     )"
   ]
  },
  {
   "cell_type": "code",
   "execution_count": 76,
   "metadata": {},
   "outputs": [
    {
     "name": "stdout",
     "output_type": "stream",
     "text": [
      "no\n"
     ]
    }
   ],
   "source": [
    "if int(numberofcookie) > 3:\n",
    "   print(\"yes\")\n",
    "else:\n",
    "   print(\"no\")"
   ]
  },
  {
   "cell_type": "code",
   "execution_count": 77,
   "metadata": {},
   "outputs": [
    {
     "name": "stdout",
     "output_type": "stream",
     "text": [
      "no\n"
     ]
    }
   ],
   "source": [
    "if int(numberofcookie) > 2:\n",
    "   print(\"yes\")\n",
    "else:\n",
    "   print(\"no\")"
   ]
  },
  {
   "cell_type": "code",
   "execution_count": 78,
   "metadata": {},
   "outputs": [
    {
     "name": "stdout",
     "output_type": "stream",
     "text": [
      "You like cookies dont you! 509 energy, 1 protein, 8 fat, 10 fat. You can have one more\n"
     ]
    }
   ],
   "source": [
    "if int(numberofcookie) > 2:\n",
    "    print(\"The cookies is making you fat! Be carefull you had: \\n\"\n",
    "      + str(int(totalofenergy)) + \" energy,\"\n",
    "      + str(int(totalofprotein)) + \" protein,\"\n",
    "      + str(int(totaloffat)) + \" fat,\"\n",
    "      + str(int(carbohydrates)) + \" carbohydrates. \\nYou need to stop eating that much cookies!!! \"\n",
    "     )\n",
    "else:\n",
    "   print(\"You like cookies dont you! \" \n",
    "      + str(int(totalofenergy)) + \" energy, \" \n",
    "      + str(int(totalofprotein)) + \" protein, \"\n",
    "      + str(int(totaloffat)) + \" fat, \" \n",
    "      + str(int(carbohydrates)) + \" fat. You can have one more\"\n",
    "     )\n"
   ]
  },
  {
   "cell_type": "code",
   "execution_count": null,
   "metadata": {},
   "outputs": [],
   "source": []
  }
 ],
 "metadata": {
  "kernelspec": {
   "display_name": "Python 3",
   "language": "python",
   "name": "python3"
  },
  "language_info": {
   "codemirror_mode": {
    "name": "ipython",
    "version": 3
   },
   "file_extension": ".py",
   "mimetype": "text/x-python",
   "name": "python",
   "nbconvert_exporter": "python",
   "pygments_lexer": "ipython3",
   "version": "3.6.5"
  }
 },
 "nbformat": 4,
 "nbformat_minor": 2
}
