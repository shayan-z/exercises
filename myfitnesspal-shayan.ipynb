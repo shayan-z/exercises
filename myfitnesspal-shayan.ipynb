{
 "cells": [
  {
   "cell_type": "code",
   "execution_count": 101,
   "metadata": {},
   "outputs": [],
   "source": [
    "energy = 509\n",
    "protein = 1.8\n",
    "fat = 8\n",
    "carbohydrates = 10.6\n",
    "numberofcookie = input(\"how many cookies did you have? \")"
   ]
  },
  {
   "cell_type": "code",
   "execution_count": 102,
   "metadata": {},
   "outputs": [],
   "source": [
    "totalofenergy = energy * int(numberofcookie)\n",
    "totalofprotein = protein * int(numberofcookie)\n",
    "totaloffat = fat * int(numberofcookie)\n",
    "totalofcarbohydrates = carbohydrates * int(numberofcookie)"
   ]
  },
  {
   "cell_type": "code",
   "execution_count": 112,
   "metadata": {},
   "outputs": [
    {
     "name": "stdout",
     "output_type": "stream",
     "text": [
      "The cookies is making you fat! Be carefull you had: \n",
      "10180 energy, 36 protein, 160 fat, 10 carbohydrates. \n",
      "You need to stop eating that much cookies!!! \n"
     ]
    }
   ],
   "source": [
    "if int(numberofcookie) > 2:\n",
    "    print(\"The cookies is making you fat! Be carefull you had: \\n\"\n",
    "      + str(int(totalofenergy)) + \" energy, \"\n",
    "      + str(int(totalofprotein)) + \" protein, \"\n",
    "      + str(int(totaloffat)) + \" fat, \"\n",
    "      + str(int(carbohydrates)) + \" carbohydrates. \\nYou need to stop eating that much cookies!!! \"\n",
    "     )\n",
    "else:\n",
    "   print(\"You like cookies dont you! \" \n",
    "      + str(int(totalofenergy)) + \" energy, \" \n",
    "      + str(int(totalofprotein)) + \" protein, \"\n",
    "      + str(int(totaloffat)) + \" fat, \" \n",
    "      + str(int(carbohydrates)) + \" fat. You can have one more\"\n",
    "     )\n"
   ]
  },
  {
   "cell_type": "code",
   "execution_count": null,
   "metadata": {},
   "outputs": [],
   "source": []
  }
 ],
 "metadata": {
  "kernelspec": {
   "display_name": "Python 3",
   "language": "python",
   "name": "python3"
  },
  "language_info": {
   "codemirror_mode": {
    "name": "ipython",
    "version": 3
   },
   "file_extension": ".py",
   "mimetype": "text/x-python",
   "name": "python",
   "nbconvert_exporter": "python",
   "pygments_lexer": "ipython3",
   "version": "3.6.5"
  }
 },
 "nbformat": 4,
 "nbformat_minor": 2
}
